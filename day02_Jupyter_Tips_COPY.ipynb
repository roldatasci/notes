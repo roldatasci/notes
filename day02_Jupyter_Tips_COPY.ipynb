{
 "cells": [
  {
   "cell_type": "markdown",
   "metadata": {},
   "source": [
    "### In this notebook, we'll talk about some useful Ipython Notebook tips and tricks. These tricks make Ipython Notebooks extremely powerful and incredibly useful for learning and experimentation. \n",
    "\n",
    "### We will cover\n",
    "   * **Mark down and code cells**\n",
    "   * **suggested autocomplete or suggest autocompletions of functions, objects, and variable names for you**\n",
    "   * **function documentations**\n",
    "   * **magic functions**\n"
   ]
  },
  {
   "cell_type": "markdown",
   "metadata": {},
   "source": [
    "**This is a Markdown Cell**\n",
    "\n",
    "### Title 3\n",
    "#### Title 4\n",
    "###### Title 5\n",
    "\n",
    "Lists:\n",
    "\n",
    "  * list 1\n",
    "  * list 2\n",
    "  * list 3\n",
    "  \n",
    "Numbered list:\n",
    "  1.  one\n",
    "  1.  two\n",
    "  1.  three\n",
    "  \n",
    "\n",
    "or you could use it to write $ \\LaTeX $ formula like  \n",
    "$ x^2 + y^2 = z^2 $    \n",
    "or  \n",
    "$ y=\\beta_1 x + \\beta_0 $  \n",
    "\n",
    "\n",
    "<div> \n",
    "click this to <a href=\"http://www.google.com/\">Search the web </a>\n",
    "</div>"
   ]
  },
  {
   "cell_type": "code",
   "execution_count": 1,
   "metadata": {
    "collapsed": false
   },
   "outputs": [
    {
     "name": "stdout",
     "output_type": "stream",
     "text": [
      "hello world\n"
     ]
    }
   ],
   "source": [
    "print \"hello world\""
   ]
  },
  {
   "cell_type": "markdown",
   "metadata": {},
   "source": [
    "# Auto complete variables / functions /documentations\n",
    " "
   ]
  },
  {
   "cell_type": "code",
   "execution_count": 2,
   "metadata": {
    "collapsed": true
   },
   "outputs": [],
   "source": [
    "my_very_long_string = 'abc'"
   ]
  },
  {
   "cell_type": "code",
   "execution_count": 3,
   "metadata": {
    "collapsed": false
   },
   "outputs": [
    {
     "data": {
      "text/plain": [
       "<function range>"
      ]
     },
     "execution_count": 3,
     "metadata": {},
     "output_type": "execute_result"
    }
   ],
   "source": [
    "range # shift tab for shorter docstring; shift tab tab for longer docstring\n",
    "# starting to type the a function and hitting tab will bring up possible functions available"
   ]
  },
  {
   "cell_type": "code",
   "execution_count": 4,
   "metadata": {
    "collapsed": false
   },
   "outputs": [],
   "source": [
    "myrange = range(0,100,3)"
   ]
  },
  {
   "cell_type": "code",
   "execution_count": 5,
   "metadata": {
    "collapsed": false
   },
   "outputs": [
    {
     "name": "stdout",
     "output_type": "stream",
     "text": [
      "[0, 3, 6, 9, 12, 15, 18, 21, 24, 27, 30, 33, 36, 39, 42, 45, 48, 51, 54, 57, 60, 63, 66, 69, 72, 75, 78, 81, 84, 87, 90, 93, 96, 99]\n"
     ]
    }
   ],
   "source": [
    "print(myrange)"
   ]
  },
  {
   "cell_type": "markdown",
   "metadata": {},
   "source": [
    "# Run Shell Commands # "
   ]
  },
  {
   "cell_type": "code",
   "execution_count": 14,
   "metadata": {
    "collapsed": false
   },
   "outputs": [
    {
     "ename": "SyntaxError",
     "evalue": "invalid syntax (<ipython-input-14-82dd852935dd>, line 1)",
     "output_type": "error",
     "traceback": [
      "\u001b[0;36m  File \u001b[0;32m\"<ipython-input-14-82dd852935dd>\"\u001b[0;36m, line \u001b[0;32m1\u001b[0m\n\u001b[0;31m    Use the Bang syntax (!) # to run something on the shell from inside Python\u001b[0m\n\u001b[0m          ^\u001b[0m\n\u001b[0;31mSyntaxError\u001b[0m\u001b[0;31m:\u001b[0m invalid syntax\n"
     ]
    }
   ],
   "source": [
    "Use the Bang syntax (!) # to run something on the shell from inside Python"
   ]
  },
  {
   "cell_type": "code",
   "execution_count": 13,
   "metadata": {
    "collapsed": false
   },
   "outputs": [
    {
     "name": "stdout",
     "output_type": "stream",
     "text": [
      "Brainstorming_and_Design.md \u001b[34mimages\u001b[m\u001b[m\r\n",
      "Jupyter_Tips.ipynb          pair-can_you_spell.md\r\n",
      "Jupyter_Tips_COPY.ipynb     pair-palindrome.md\r\n",
      "README.md                   python_best_practices.pdf\r\n"
     ]
    }
   ],
   "source": [
    "!ls"
   ]
  },
  {
   "cell_type": "code",
   "execution_count": 15,
   "metadata": {
    "collapsed": false
   },
   "outputs": [
    {
     "name": "stdout",
     "output_type": "stream",
     "text": [
      "/Users/rol-mbp/Google Drive/RON/01_Learning_2016/01_metis/01_metisgh/class_notes_NOTinGIT/day2\r\n"
     ]
    }
   ],
   "source": [
    "!pwd"
   ]
  },
  {
   "cell_type": "code",
   "execution_count": null,
   "metadata": {
    "collapsed": true
   },
   "outputs": [],
   "source": []
  },
  {
   "cell_type": "code",
   "execution_count": null,
   "metadata": {
    "collapsed": false
   },
   "outputs": [],
   "source": [
    "# installing something from within ipython shell\n",
    "!pip install nltk"
   ]
  },
  {
   "cell_type": "code",
   "execution_count": null,
   "metadata": {
    "collapsed": true
   },
   "outputs": [],
   "source": []
  },
  {
   "cell_type": "code",
   "execution_count": null,
   "metadata": {
    "collapsed": true
   },
   "outputs": [],
   "source": []
  },
  {
   "cell_type": "markdown",
   "metadata": {},
   "source": [
    "# Magic Functions #"
   ]
  },
  {
   "cell_type": "markdown",
   "metadata": {},
   "source": [
    "## Line magic and Cell Magic"
   ]
  },
  {
   "cell_type": "code",
   "execution_count": 11,
   "metadata": {
    "collapsed": false
   },
   "outputs": [
    {
     "data": {
      "application/json": {
       "cell": {
        "!": "OSMagics",
        "HTML": "Other",
        "SVG": "Other",
        "bash": "Other",
        "capture": "ExecutionMagics",
        "debug": "ExecutionMagics",
        "file": "Other",
        "html": "DisplayMagics",
        "javascript": "DisplayMagics",
        "js": "DisplayMagics",
        "latex": "DisplayMagics",
        "perl": "Other",
        "prun": "ExecutionMagics",
        "pypy": "Other",
        "python": "Other",
        "python2": "Other",
        "python3": "Other",
        "ruby": "Other",
        "script": "ScriptMagics",
        "sh": "Other",
        "svg": "DisplayMagics",
        "sx": "OSMagics",
        "system": "OSMagics",
        "time": "ExecutionMagics",
        "timeit": "ExecutionMagics",
        "writefile": "OSMagics"
       },
       "line": {
        "alias": "OSMagics",
        "alias_magic": "BasicMagics",
        "autocall": "AutoMagics",
        "automagic": "AutoMagics",
        "autosave": "KernelMagics",
        "bookmark": "OSMagics",
        "cat": "Other",
        "cd": "OSMagics",
        "clear": "KernelMagics",
        "colors": "BasicMagics",
        "config": "ConfigMagics",
        "connect_info": "KernelMagics",
        "cp": "Other",
        "debug": "ExecutionMagics",
        "dhist": "OSMagics",
        "dirs": "OSMagics",
        "doctest_mode": "BasicMagics",
        "ed": "Other",
        "edit": "KernelMagics",
        "env": "OSMagics",
        "gui": "BasicMagics",
        "hist": "Other",
        "history": "HistoryMagics",
        "killbgscripts": "ScriptMagics",
        "ldir": "Other",
        "less": "KernelMagics",
        "lf": "Other",
        "lk": "Other",
        "ll": "Other",
        "load": "CodeMagics",
        "load_ext": "ExtensionMagics",
        "loadpy": "CodeMagics",
        "logoff": "LoggingMagics",
        "logon": "LoggingMagics",
        "logstart": "LoggingMagics",
        "logstate": "LoggingMagics",
        "logstop": "LoggingMagics",
        "ls": "Other",
        "lsmagic": "BasicMagics",
        "lx": "Other",
        "macro": "ExecutionMagics",
        "magic": "BasicMagics",
        "man": "KernelMagics",
        "matplotlib": "PylabMagics",
        "mkdir": "Other",
        "more": "KernelMagics",
        "mv": "Other",
        "notebook": "BasicMagics",
        "page": "BasicMagics",
        "pastebin": "CodeMagics",
        "pdb": "ExecutionMagics",
        "pdef": "NamespaceMagics",
        "pdoc": "NamespaceMagics",
        "pfile": "NamespaceMagics",
        "pinfo": "NamespaceMagics",
        "pinfo2": "NamespaceMagics",
        "popd": "OSMagics",
        "pprint": "BasicMagics",
        "precision": "BasicMagics",
        "profile": "BasicMagics",
        "prun": "ExecutionMagics",
        "psearch": "NamespaceMagics",
        "psource": "NamespaceMagics",
        "pushd": "OSMagics",
        "pwd": "OSMagics",
        "pycat": "OSMagics",
        "pylab": "PylabMagics",
        "qtconsole": "KernelMagics",
        "quickref": "BasicMagics",
        "recall": "HistoryMagics",
        "rehashx": "OSMagics",
        "reload_ext": "ExtensionMagics",
        "rep": "Other",
        "rerun": "HistoryMagics",
        "reset": "NamespaceMagics",
        "reset_selective": "NamespaceMagics",
        "rm": "Other",
        "rmdir": "Other",
        "run": "ExecutionMagics",
        "save": "CodeMagics",
        "sc": "OSMagics",
        "set_env": "OSMagics",
        "store": "StoreMagics",
        "sx": "OSMagics",
        "system": "OSMagics",
        "tb": "ExecutionMagics",
        "time": "ExecutionMagics",
        "timeit": "ExecutionMagics",
        "unalias": "OSMagics",
        "unload_ext": "ExtensionMagics",
        "who": "NamespaceMagics",
        "who_ls": "NamespaceMagics",
        "whos": "NamespaceMagics",
        "xdel": "NamespaceMagics",
        "xmode": "BasicMagics"
       }
      },
      "text/plain": [
       "Available line magics:\n",
       "%alias  %alias_magic  %autocall  %automagic  %autosave  %bookmark  %cat  %cd  %clear  %colors  %config  %connect_info  %cp  %debug  %dhist  %dirs  %doctest_mode  %ed  %edit  %env  %gui  %hist  %history  %killbgscripts  %ldir  %less  %lf  %lk  %ll  %load  %load_ext  %loadpy  %logoff  %logon  %logstart  %logstate  %logstop  %ls  %lsmagic  %lx  %macro  %magic  %man  %matplotlib  %mkdir  %more  %mv  %notebook  %page  %pastebin  %pdb  %pdef  %pdoc  %pfile  %pinfo  %pinfo2  %popd  %pprint  %precision  %profile  %prun  %psearch  %psource  %pushd  %pwd  %pycat  %pylab  %qtconsole  %quickref  %recall  %rehashx  %reload_ext  %rep  %rerun  %reset  %reset_selective  %rm  %rmdir  %run  %save  %sc  %set_env  %store  %sx  %system  %tb  %time  %timeit  %unalias  %unload_ext  %who  %who_ls  %whos  %xdel  %xmode\n",
       "\n",
       "Available cell magics:\n",
       "%%!  %%HTML  %%SVG  %%bash  %%capture  %%debug  %%file  %%html  %%javascript  %%js  %%latex  %%perl  %%prun  %%pypy  %%python  %%python2  %%python3  %%ruby  %%script  %%sh  %%svg  %%sx  %%system  %%time  %%timeit  %%writefile\n",
       "\n",
       "Automagic is ON, % prefix IS NOT needed for line magics."
      ]
     },
     "execution_count": 11,
     "metadata": {},
     "output_type": "execute_result"
    }
   ],
   "source": [
    "lsmagic # this is unique to ipynb"
   ]
  },
  {
   "cell_type": "markdown",
   "metadata": {},
   "source": [
    "%matplotlib inline # embed figures in ipynb"
   ]
  },
  {
   "cell_type": "code",
   "execution_count": 22,
   "metadata": {
    "collapsed": false
   },
   "outputs": [
    {
     "name": "stdout",
     "output_type": "stream",
     "text": [
      "100 loops, best of 3: 4.26 ms per loop\n"
     ]
    }
   ],
   "source": [
    "# % timeit available as both line and cell magic\n",
    "# - this is useful for large scale operations (to compare algorithms)\n",
    "import numpy as np\n",
    "%timeit np.linalg.eigvals(np.random.rand(100,100))"
   ]
  },
  {
   "cell_type": "code",
   "execution_count": 16,
   "metadata": {
    "collapsed": false
   },
   "outputs": [
    {
     "name": "stdout",
     "output_type": "stream",
     "text": [
      "/bin/sh: timeit: command not found\r\n"
     ]
    },
    {
     "data": {
      "text/plain": [
       "array([  5.07155384e+01+0.j        ,  -2.53925106e+00+1.35175278j,\n",
       "        -2.53925106e+00-1.35175278j,   1.02665512e+00+2.614327j  ,\n",
       "         1.02665512e+00-2.614327j  ,  -1.84615388e+00+2.07651025j,\n",
       "        -1.84615388e+00-2.07651025j,  -6.28141905e-01+2.64243213j,\n",
       "        -6.28141905e-01-2.64243213j,  -2.73189324e+00+0.j        ,\n",
       "        -2.70966953e+00+0.j        ,   1.88710740e+00+2.0800057j ,\n",
       "         1.88710740e+00-2.0800057j ,  -2.46695444e+00+0.69046168j,\n",
       "        -2.46695444e+00-0.69046168j,  -2.37614966e+00+0.9069272j ,\n",
       "        -2.37614966e+00-0.9069272j ,  -1.62879627e-01+2.59321826j,\n",
       "        -1.62879627e-01-2.59321826j,   3.08759790e-01+2.59330377j,\n",
       "         3.08759790e-01-2.59330377j,   2.65363311e+00+0.64684358j,\n",
       "         2.65363311e+00-0.64684358j,  -1.22785354e+00+2.13011665j,\n",
       "        -1.22785354e+00-2.13011665j,   2.34346125e+00+1.10769794j,\n",
       "         2.34346125e+00-1.10769794j,  -1.81629083e+00+1.61600045j,\n",
       "        -1.81629083e+00-1.61600045j,   1.01906425e+00+2.23270659j,\n",
       "         1.01906425e+00-2.23270659j,   2.14703038e+00+1.31918375j,\n",
       "         2.14703038e+00-1.31918375j,  -1.38097755e+00+1.90396331j,\n",
       "        -1.38097755e+00-1.90396331j,   2.59193968e+00+0.15034984j,\n",
       "         2.59193968e+00-0.15034984j,   2.08806469e-01+2.32258336j,\n",
       "         2.08806469e-01-2.32258336j,  -2.24373142e+00+0.221j     ,\n",
       "        -2.24373142e+00-0.221j     ,   8.18082366e-01+2.09781534j,\n",
       "         8.18082366e-01-2.09781534j,   1.77354050e+00+1.41549317j,\n",
       "         1.77354050e+00-1.41549317j,  -5.79432225e-01+2.02320299j,\n",
       "        -5.79432225e-01-2.02320299j,  -1.65447326e+00+1.30937114j,\n",
       "        -1.65447326e+00-1.30937114j,   2.29920065e+00+0.06479688j,\n",
       "         2.29920065e+00-0.06479688j,  -3.85388089e-02+1.96999731j,\n",
       "        -3.85388089e-02-1.96999731j,  -1.42214541e+00+1.34894265j,\n",
       "        -1.42214541e+00-1.34894265j,  -6.85576891e-01+1.73319195j,\n",
       "        -6.85576891e-01-1.73319195j,  -1.70952717e+00+0.j        ,\n",
       "         9.84479058e-01+1.54538844j,   9.84479058e-01-1.54538844j,\n",
       "         4.20360656e-01+1.6028179j ,   4.20360656e-01-1.6028179j ,\n",
       "        -1.64522973e+00+0.32734754j,  -1.64522973e+00-0.32734754j,\n",
       "         1.78574392e+00+0.19019913j,   1.78574392e+00-0.19019913j,\n",
       "         1.27103446e+00+1.14329247j,   1.27103446e+00-1.14329247j,\n",
       "         1.03093772e+00+1.35166998j,   1.03093772e+00-1.35166998j,\n",
       "        -1.09963314e+00+1.03485907j,  -1.09963314e+00-1.03485907j,\n",
       "         1.48980328e+00+0.49673196j,   1.48980328e+00-0.49673196j,\n",
       "         1.35636996e+00+0.69910669j,   1.35636996e+00-0.69910669j,\n",
       "        -4.16024399e-01+1.34424688j,  -4.16024399e-01-1.34424688j,\n",
       "        -1.37361587e+00+0.50465475j,  -1.37361587e+00-0.50465475j,\n",
       "         6.20427258e-01+1.2283766j ,   6.20427258e-01-1.2283766j ,\n",
       "         1.28813684e+00+0.j        ,  -1.18296096e+00+0.j        ,\n",
       "         3.42574628e-01+0.83185115j,   3.42574628e-01-0.83185115j,\n",
       "        -7.31996031e-01+0.52306491j,  -7.31996031e-01-0.52306491j,\n",
       "         8.52488821e-01+0.30708074j,   8.52488821e-01-0.30708074j,\n",
       "        -3.66654773e-01+0.5473686j ,  -3.66654773e-01-0.5473686j ,\n",
       "        -5.57248370e-01+0.j        ,   5.51296658e-01+0.31350217j,\n",
       "         5.51296658e-01-0.31350217j,  -2.16726069e-01+0.40128767j,\n",
       "        -2.16726069e-01-0.40128767j,   3.96347345e-01+0.19368007j,\n",
       "         3.96347345e-01-0.19368007j,   7.83912987e-02+0.j        ])"
      ]
     },
     "execution_count": 16,
     "metadata": {},
     "output_type": "execute_result"
    }
   ],
   "source": [
    "# cell magic starts with %% \n",
    "%%timeit \n",
    "a = np.random.rand(100, 100)\n",
    "np.linalg.eigvals(a)"
   ]
  },
  {
   "cell_type": "markdown",
   "metadata": {},
   "source": [
    "## scripts magic"
   ]
  },
  {
   "cell_type": "code",
   "execution_count": 7,
   "metadata": {
    "collapsed": false
   },
   "outputs": [
    {
     "ename": "SyntaxError",
     "evalue": "invalid syntax (<ipython-input-7-8323bae52f79>, line 2)",
     "output_type": "error",
     "traceback": [
      "\u001b[0;36m  File \u001b[0;32m\"<ipython-input-7-8323bae52f79>\"\u001b[0;36m, line \u001b[0;32m2\u001b[0m\n\u001b[0;31m    %%script python2\u001b[0m\n\u001b[0m    ^\u001b[0m\n\u001b[0;31mSyntaxError\u001b[0m\u001b[0;31m:\u001b[0m invalid syntax\n"
     ]
    }
   ],
   "source": [
    "# you can run scripts using whatever system you want to build with\n",
    "%%script python2\n",
    "import sys\n",
    "print 'hello from Python %s' % sys.version"
   ]
  },
  {
   "cell_type": "code",
   "execution_count": 20,
   "metadata": {
    "collapsed": false,
    "scrolled": true
   },
   "outputs": [
    {
     "ename": "SyntaxError",
     "evalue": "invalid syntax (<ipython-input-20-73b4b4a0bc43>, line 2)",
     "output_type": "error",
     "traceback": [
      "\u001b[0;36m  File \u001b[0;32m\"<ipython-input-20-73b4b4a0bc43>\"\u001b[0;36m, line \u001b[0;32m2\u001b[0m\n\u001b[0;31m    %%bash # this does not work\u001b[0m\n\u001b[0m    ^\u001b[0m\n\u001b[0;31mSyntaxError\u001b[0m\u001b[0;31m:\u001b[0m invalid syntax\n"
     ]
    }
   ],
   "source": [
    "# - e.g. execute bash code from here\n",
    "%%bash # this does not work"
   ]
  },
  {
   "cell_type": "code",
   "execution_count": 23,
   "metadata": {
    "collapsed": false
   },
   "outputs": [
    {
     "name": "stdout",
     "output_type": "stream",
     "text": [
      "Hello world from /bin/sh\r\n"
     ]
    }
   ],
   "source": [
    "!echo \"Hello world from $BASH\""
   ]
  },
  {
   "cell_type": "code",
   "execution_count": 24,
   "metadata": {
    "collapsed": false
   },
   "outputs": [
    {
     "name": "stdout",
     "output_type": "stream",
     "text": [
      "Hello world from Ruby 2.0.0\n"
     ]
    }
   ],
   "source": [
    "%%ruby\n",
    "puts \"Hello world from Ruby #{RUBY_VERSION}\""
   ]
  },
  {
   "cell_type": "code",
   "execution_count": null,
   "metadata": {
    "collapsed": true
   },
   "outputs": [],
   "source": []
  }
 ],
 "metadata": {
  "anaconda-cloud": {},
  "kernelspec": {
   "display_name": "Python [conda root]",
   "language": "python",
   "name": "conda-root-py"
  },
  "language_info": {
   "codemirror_mode": {
    "name": "ipython",
    "version": 2
   },
   "file_extension": ".py",
   "mimetype": "text/x-python",
   "name": "python",
   "nbconvert_exporter": "python",
   "pygments_lexer": "ipython2",
   "version": "2.7.12"
  }
 },
 "nbformat": 4,
 "nbformat_minor": 0
}
