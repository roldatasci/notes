{
 "cells": [
  {
   "cell_type": "code",
   "execution_count": 1,
   "metadata": {
    "collapsed": true
   },
   "outputs": [],
   "source": [
    "# standard imports\n",
    "from __future__ import print_function, division\n",
    "import pandas as pd\n",
    "import numpy as np\n",
    "import matplotlib.pyplot as plt"
   ]
  },
  {
   "cell_type": "code",
   "execution_count": 2,
   "metadata": {
    "collapsed": true
   },
   "outputs": [],
   "source": [
    "# jupyter-specific settings\n",
    "from IPython.display import Image\n",
    "%matplotlib inline"
   ]
  },
  {
   "cell_type": "code",
   "execution_count": 3,
   "metadata": {
    "collapsed": true
   },
   "outputs": [],
   "source": [
    "import datetime as dt # to work with time stamps"
   ]
  },
  {
   "cell_type": "code",
   "execution_count": 4,
   "metadata": {
    "collapsed": true
   },
   "outputs": [],
   "source": [
    "pd.set_option('display.precision', 3) # 3 decimal places\n",
    "pd.set_option('display.max_rows', 20) # max rows 20"
   ]
  },
  {
   "cell_type": "markdown",
   "metadata": {},
   "source": [
    "### Exercise 1.1\n",
    "\n",
    "Combine first four columns as a key, and the rest of the columns as a value (or in pandas, the first four columns is the first variable, whilst the rest of the columns are left intact)."
   ]
  },
  {
   "cell_type": "code",
   "execution_count": 5,
   "metadata": {
    "collapsed": false
   },
   "outputs": [],
   "source": [
    "# read in last 4 weeks\n",
    "wk1 = pd.read_csv('http://web.mta.info/developers/data/nyct/turnstile/turnstile_160917.txt')\n",
    "wk2 = pd.read_csv('http://web.mta.info/developers/data/nyct/turnstile/turnstile_160910.txt')\n",
    "wk3 = pd.read_csv('http://web.mta.info/developers/data/nyct/turnstile/turnstile_160903.txt')\n",
    "wk4 = pd.read_csv('http://web.mta.info/developers/data/nyct/turnstile/turnstile_160827.txt')"
   ]
  },
  {
   "cell_type": "code",
   "execution_count": 6,
   "metadata": {
    "collapsed": false
   },
   "outputs": [
    {
     "name": "stdout",
     "output_type": "stream",
     "text": [
      "<class 'pandas.core.frame.DataFrame'>\n",
      "Int64Index: 772507 entries, 0 to 191611\n",
      "Data columns (total 11 columns):\n",
      "C/A                                                                     772507 non-null object\n",
      "UNIT                                                                    772507 non-null object\n",
      "SCP                                                                     772507 non-null object\n",
      "STATION                                                                 772507 non-null object\n",
      "LINENAME                                                                772507 non-null object\n",
      "DIVISION                                                                772507 non-null object\n",
      "DATE                                                                    772507 non-null object\n",
      "TIME                                                                    772507 non-null object\n",
      "DESC                                                                    772507 non-null object\n",
      "ENTRIES                                                                 772507 non-null int64\n",
      "EXITS                                                                   772507 non-null int64\n",
      "dtypes: int64(2), object(9)\n",
      "memory usage: 70.7+ MB\n"
     ]
    }
   ],
   "source": [
    "# concatenate into one df with 4 weeks of data\n",
    "# concat appends rows horizontally with no duplicate headings\n",
    "df = pd.concat([wk1, wk2, wk3, wk4])\n",
    "df.info() # 772507 entries"
   ]
  },
  {
   "cell_type": "code",
   "execution_count": 7,
   "metadata": {
    "collapsed": false
   },
   "outputs": [],
   "source": [
    "# note the filename format: \n",
    "# 'http://web.mta.info/developers/data/nyct/turnstile/turnstile_YYMMDD.txt'\n",
    "# can also define function to read in data for a list of week end dates (credit: Ramesh)\n",
    "\n",
    "def get_data(weeks):\n",
    "    url = 'http://web.mta.info/developers/data/nyct/turnstile/turnstile_{}.txt'\n",
    "    df = [] # for list of weeks desired\n",
    "    for week in weeks:\n",
    "        file_url = url.format(week) # string formatting to replace {} with week\n",
    "        df.append(pd.read_csv(file_url))\n",
    "    return pd.concat(df)"
   ]
  },
  {
   "cell_type": "code",
   "execution_count": 8,
   "metadata": {
    "collapsed": false
   },
   "outputs": [
    {
     "name": "stdout",
     "output_type": "stream",
     "text": [
      "<class 'pandas.core.frame.DataFrame'>\n",
      "Int64Index: 772507 entries, 0 to 191611\n",
      "Data columns (total 11 columns):\n",
      "C/A                                                                     772507 non-null object\n",
      "UNIT                                                                    772507 non-null object\n",
      "SCP                                                                     772507 non-null object\n",
      "STATION                                                                 772507 non-null object\n",
      "LINENAME                                                                772507 non-null object\n",
      "DIVISION                                                                772507 non-null object\n",
      "DATE                                                                    772507 non-null object\n",
      "TIME                                                                    772507 non-null object\n",
      "DESC                                                                    772507 non-null object\n",
      "ENTRIES                                                                 772507 non-null int64\n",
      "EXITS                                                                   772507 non-null int64\n",
      "dtypes: int64(2), object(9)\n",
      "memory usage: 70.7+ MB\n"
     ]
    }
   ],
   "source": [
    "weeks = [160917,160910,160903,160827]\n",
    "df = get_data(weeks)\n",
    "df.info() # 772507 entries (same result as above approach)"
   ]
  },
  {
   "cell_type": "code",
   "execution_count": 9,
   "metadata": {
    "collapsed": false
   },
   "outputs": [
    {
     "data": {
      "text/plain": [
       "Index(['C/A', 'UNIT', 'SCP', 'STATION', 'LINENAME', 'DIVISION', 'DATE', 'TIME',\n",
       "       'DESC', 'ENTRIES',\n",
       "       'EXITS                                                               '],\n",
       "      dtype='object')"
      ]
     },
     "execution_count": 9,
     "metadata": {},
     "output_type": "execute_result"
    }
   ],
   "source": [
    "df.columns"
   ]
  },
  {
   "cell_type": "code",
   "execution_count": 10,
   "metadata": {
    "collapsed": false
   },
   "outputs": [
    {
     "data": {
      "text/plain": [
       "Index(['C/A', 'UNIT', 'SCP', 'STATION', 'LINENAME', 'DIVISION', 'DATE', 'TIME',\n",
       "       'DESC', 'ENTRIES', 'EXITS'],\n",
       "      dtype='object')"
      ]
     },
     "execution_count": 10,
     "metadata": {},
     "output_type": "execute_result"
    }
   ],
   "source": [
    "# strip any leading/trailing spaces\n",
    "df.columns = [col.strip() for col in df.columns]\n",
    "df.columns"
   ]
  },
  {
   "cell_type": "code",
   "execution_count": 11,
   "metadata": {
    "collapsed": false
   },
   "outputs": [
    {
     "data": {
      "text/html": [
       "<div>\n",
       "<table border=\"1\" class=\"dataframe\">\n",
       "  <thead>\n",
       "    <tr style=\"text-align: right;\">\n",
       "      <th></th>\n",
       "      <th>C/A</th>\n",
       "      <th>UNIT</th>\n",
       "      <th>SCP</th>\n",
       "      <th>STATION</th>\n",
       "      <th>LINENAME</th>\n",
       "      <th>DIVISION</th>\n",
       "      <th>DATE</th>\n",
       "      <th>TIME</th>\n",
       "      <th>DESC</th>\n",
       "      <th>ENTRIES</th>\n",
       "      <th>EXITS</th>\n",
       "    </tr>\n",
       "  </thead>\n",
       "  <tbody>\n",
       "    <tr>\n",
       "      <th>0</th>\n",
       "      <td>A002</td>\n",
       "      <td>R051</td>\n",
       "      <td>02-00-00</td>\n",
       "      <td>59 ST</td>\n",
       "      <td>NQR456</td>\n",
       "      <td>BMT</td>\n",
       "      <td>09/10/2016</td>\n",
       "      <td>00:00:00</td>\n",
       "      <td>REGULAR</td>\n",
       "      <td>5817505</td>\n",
       "      <td>1971936</td>\n",
       "    </tr>\n",
       "    <tr>\n",
       "      <th>1</th>\n",
       "      <td>A002</td>\n",
       "      <td>R051</td>\n",
       "      <td>02-00-00</td>\n",
       "      <td>59 ST</td>\n",
       "      <td>NQR456</td>\n",
       "      <td>BMT</td>\n",
       "      <td>09/10/2016</td>\n",
       "      <td>04:00:00</td>\n",
       "      <td>REGULAR</td>\n",
       "      <td>5817544</td>\n",
       "      <td>1971940</td>\n",
       "    </tr>\n",
       "    <tr>\n",
       "      <th>2</th>\n",
       "      <td>A002</td>\n",
       "      <td>R051</td>\n",
       "      <td>02-00-00</td>\n",
       "      <td>59 ST</td>\n",
       "      <td>NQR456</td>\n",
       "      <td>BMT</td>\n",
       "      <td>09/10/2016</td>\n",
       "      <td>08:00:00</td>\n",
       "      <td>REGULAR</td>\n",
       "      <td>5817564</td>\n",
       "      <td>1971981</td>\n",
       "    </tr>\n",
       "    <tr>\n",
       "      <th>3</th>\n",
       "      <td>A002</td>\n",
       "      <td>R051</td>\n",
       "      <td>02-00-00</td>\n",
       "      <td>59 ST</td>\n",
       "      <td>NQR456</td>\n",
       "      <td>BMT</td>\n",
       "      <td>09/10/2016</td>\n",
       "      <td>12:00:00</td>\n",
       "      <td>REGULAR</td>\n",
       "      <td>5817678</td>\n",
       "      <td>1972094</td>\n",
       "    </tr>\n",
       "    <tr>\n",
       "      <th>4</th>\n",
       "      <td>A002</td>\n",
       "      <td>R051</td>\n",
       "      <td>02-00-00</td>\n",
       "      <td>59 ST</td>\n",
       "      <td>NQR456</td>\n",
       "      <td>BMT</td>\n",
       "      <td>09/10/2016</td>\n",
       "      <td>16:00:00</td>\n",
       "      <td>REGULAR</td>\n",
       "      <td>5817925</td>\n",
       "      <td>1972180</td>\n",
       "    </tr>\n",
       "  </tbody>\n",
       "</table>\n",
       "</div>"
      ],
      "text/plain": [
       "    C/A  UNIT       SCP STATION LINENAME DIVISION        DATE      TIME  \\\n",
       "0  A002  R051  02-00-00   59 ST   NQR456      BMT  09/10/2016  00:00:00   \n",
       "1  A002  R051  02-00-00   59 ST   NQR456      BMT  09/10/2016  04:00:00   \n",
       "2  A002  R051  02-00-00   59 ST   NQR456      BMT  09/10/2016  08:00:00   \n",
       "3  A002  R051  02-00-00   59 ST   NQR456      BMT  09/10/2016  12:00:00   \n",
       "4  A002  R051  02-00-00   59 ST   NQR456      BMT  09/10/2016  16:00:00   \n",
       "\n",
       "      DESC  ENTRIES    EXITS  \n",
       "0  REGULAR  5817505  1971936  \n",
       "1  REGULAR  5817544  1971940  \n",
       "2  REGULAR  5817564  1971981  \n",
       "3  REGULAR  5817678  1972094  \n",
       "4  REGULAR  5817925  1972180  "
      ]
     },
     "execution_count": 11,
     "metadata": {},
     "output_type": "execute_result"
    }
   ],
   "source": [
    "df.head()"
   ]
  },
  {
   "cell_type": "code",
   "execution_count": 12,
   "metadata": {
    "collapsed": false
   },
   "outputs": [
    {
     "data": {
      "text/html": [
       "<div>\n",
       "<table border=\"1\" class=\"dataframe\">\n",
       "  <thead>\n",
       "    <tr style=\"text-align: right;\">\n",
       "      <th></th>\n",
       "      <th>C/A</th>\n",
       "      <th>UNIT</th>\n",
       "      <th>SCP</th>\n",
       "      <th>STATION</th>\n",
       "      <th>LINENAME</th>\n",
       "      <th>DIVISION</th>\n",
       "      <th>DATE</th>\n",
       "      <th>TIME</th>\n",
       "      <th>DESC</th>\n",
       "      <th>ENTRIES</th>\n",
       "      <th>EXITS</th>\n",
       "    </tr>\n",
       "  </thead>\n",
       "  <tbody>\n",
       "    <tr>\n",
       "      <th>191607</th>\n",
       "      <td>TRAM2</td>\n",
       "      <td>R469</td>\n",
       "      <td>00-05-01</td>\n",
       "      <td>RIT-ROOSEVELT</td>\n",
       "      <td>R</td>\n",
       "      <td>RIT</td>\n",
       "      <td>08/26/2016</td>\n",
       "      <td>05:00:00</td>\n",
       "      <td>REGULAR</td>\n",
       "      <td>5554</td>\n",
       "      <td>257</td>\n",
       "    </tr>\n",
       "    <tr>\n",
       "      <th>191608</th>\n",
       "      <td>TRAM2</td>\n",
       "      <td>R469</td>\n",
       "      <td>00-05-01</td>\n",
       "      <td>RIT-ROOSEVELT</td>\n",
       "      <td>R</td>\n",
       "      <td>RIT</td>\n",
       "      <td>08/26/2016</td>\n",
       "      <td>09:00:00</td>\n",
       "      <td>REGULAR</td>\n",
       "      <td>5554</td>\n",
       "      <td>257</td>\n",
       "    </tr>\n",
       "    <tr>\n",
       "      <th>191609</th>\n",
       "      <td>TRAM2</td>\n",
       "      <td>R469</td>\n",
       "      <td>00-05-01</td>\n",
       "      <td>RIT-ROOSEVELT</td>\n",
       "      <td>R</td>\n",
       "      <td>RIT</td>\n",
       "      <td>08/26/2016</td>\n",
       "      <td>13:00:00</td>\n",
       "      <td>REGULAR</td>\n",
       "      <td>5554</td>\n",
       "      <td>257</td>\n",
       "    </tr>\n",
       "    <tr>\n",
       "      <th>191610</th>\n",
       "      <td>TRAM2</td>\n",
       "      <td>R469</td>\n",
       "      <td>00-05-01</td>\n",
       "      <td>RIT-ROOSEVELT</td>\n",
       "      <td>R</td>\n",
       "      <td>RIT</td>\n",
       "      <td>08/26/2016</td>\n",
       "      <td>17:00:00</td>\n",
       "      <td>REGULAR</td>\n",
       "      <td>5554</td>\n",
       "      <td>257</td>\n",
       "    </tr>\n",
       "    <tr>\n",
       "      <th>191611</th>\n",
       "      <td>TRAM2</td>\n",
       "      <td>R469</td>\n",
       "      <td>00-05-01</td>\n",
       "      <td>RIT-ROOSEVELT</td>\n",
       "      <td>R</td>\n",
       "      <td>RIT</td>\n",
       "      <td>08/26/2016</td>\n",
       "      <td>21:00:00</td>\n",
       "      <td>REGULAR</td>\n",
       "      <td>5554</td>\n",
       "      <td>257</td>\n",
       "    </tr>\n",
       "  </tbody>\n",
       "</table>\n",
       "</div>"
      ],
      "text/plain": [
       "          C/A  UNIT       SCP        STATION LINENAME DIVISION        DATE  \\\n",
       "191607  TRAM2  R469  00-05-01  RIT-ROOSEVELT        R      RIT  08/26/2016   \n",
       "191608  TRAM2  R469  00-05-01  RIT-ROOSEVELT        R      RIT  08/26/2016   \n",
       "191609  TRAM2  R469  00-05-01  RIT-ROOSEVELT        R      RIT  08/26/2016   \n",
       "191610  TRAM2  R469  00-05-01  RIT-ROOSEVELT        R      RIT  08/26/2016   \n",
       "191611  TRAM2  R469  00-05-01  RIT-ROOSEVELT        R      RIT  08/26/2016   \n",
       "\n",
       "            TIME     DESC  ENTRIES  EXITS  \n",
       "191607  05:00:00  REGULAR     5554    257  \n",
       "191608  09:00:00  REGULAR     5554    257  \n",
       "191609  13:00:00  REGULAR     5554    257  \n",
       "191610  17:00:00  REGULAR     5554    257  \n",
       "191611  21:00:00  REGULAR     5554    257  "
      ]
     },
     "execution_count": 12,
     "metadata": {},
     "output_type": "execute_result"
    }
   ],
   "source": [
    "df.tail()"
   ]
  },
  {
   "cell_type": "markdown",
   "metadata": {},
   "source": [
    "Combine first four columns into one variable using string concatenation syntax. Construct new DataFrame with this new structure."
   ]
  },
  {
   "cell_type": "code",
   "execution_count": 13,
   "metadata": {
    "collapsed": false
   },
   "outputs": [],
   "source": [
    "# df['COMBINED_LOC'] = df['C/A'] + ',' + df['UNIT'] + ',' + df['SCP'] + ',' + df['STATION']\n",
    "# df.head()"
   ]
  },
  {
   "cell_type": "code",
   "execution_count": 14,
   "metadata": {
    "collapsed": false
   },
   "outputs": [],
   "source": [
    "# newdf = df[['COMBINED_LOC', 'LINENAME', 'DIVISION', 'DATE', 'TIME', 'DESC', 'ENTRIES', 'EXITS']]\n",
    "# newdf.head()\n",
    "# df.groupby(['C/A','UNIT','SCP', 'STATION'])"
   ]
  },
  {
   "cell_type": "code",
   "execution_count": 15,
   "metadata": {
    "collapsed": false
   },
   "outputs": [
    {
     "data": {
      "text/plain": [
       "08/20/2016    27270\n",
       "08/21/2016    27665\n",
       "08/22/2016    27369\n",
       "08/23/2016    27311\n",
       "08/24/2016    27341\n",
       "08/25/2016    27398\n",
       "08/26/2016    27258\n",
       "08/27/2016    27290\n",
       "08/28/2016    27300\n",
       "08/29/2016    27828\n",
       "              ...  \n",
       "09/07/2016    27977\n",
       "09/08/2016    28137\n",
       "09/09/2016    27956\n",
       "09/10/2016    27325\n",
       "09/11/2016    27334\n",
       "09/12/2016    28074\n",
       "09/13/2016    27343\n",
       "09/14/2016    27359\n",
       "09/15/2016    27283\n",
       "09/16/2016    28160\n",
       "Name: DATE, dtype: int64"
      ]
     },
     "execution_count": 15,
     "metadata": {},
     "output_type": "execute_result"
    }
   ],
   "source": [
    "# count of observations for each date in the column 'DATE'\n",
    "# e.g. there are 27270 observations that have the value '08/20/2016'\n",
    "# for the variable 'DATE'\n",
    "df.DATE.value_counts().sort_index()"
   ]
  },
  {
   "cell_type": "code",
   "execution_count": 16,
   "metadata": {
    "collapsed": true
   },
   "outputs": [],
   "source": [
    "# df.DATE.mean()"
   ]
  },
  {
   "cell_type": "markdown",
   "metadata": {},
   "source": [
    "### Exercise 1.2\n",
    "\n",
    "Keep only date, time, and entries field. Convert the date and time columns into datetime objects.\n",
    "e.g. ('A002','R051','02-00-00','LEXINGTON AVE'): [datetime.datetime(2013, 3, 2, 3, 0), 3788]\n",
    "\n",
    "Must combine 'DATE' and 'TIME' variables, then convert the entries to datetime objects."
   ]
  },
  {
   "cell_type": "code",
   "execution_count": 17,
   "metadata": {
    "collapsed": false
   },
   "outputs": [
    {
     "data": {
      "text/html": [
       "<div>\n",
       "<table border=\"1\" class=\"dataframe\">\n",
       "  <thead>\n",
       "    <tr style=\"text-align: right;\">\n",
       "      <th></th>\n",
       "      <th>C/A</th>\n",
       "      <th>UNIT</th>\n",
       "      <th>SCP</th>\n",
       "      <th>STATION</th>\n",
       "      <th>LINENAME</th>\n",
       "      <th>DIVISION</th>\n",
       "      <th>DATE</th>\n",
       "      <th>TIME</th>\n",
       "      <th>DESC</th>\n",
       "      <th>ENTRIES</th>\n",
       "      <th>EXITS</th>\n",
       "      <th>DATE_TIME</th>\n",
       "    </tr>\n",
       "  </thead>\n",
       "  <tbody>\n",
       "    <tr>\n",
       "      <th>0</th>\n",
       "      <td>A002</td>\n",
       "      <td>R051</td>\n",
       "      <td>02-00-00</td>\n",
       "      <td>59 ST</td>\n",
       "      <td>NQR456</td>\n",
       "      <td>BMT</td>\n",
       "      <td>09/10/2016</td>\n",
       "      <td>00:00:00</td>\n",
       "      <td>REGULAR</td>\n",
       "      <td>5817505</td>\n",
       "      <td>1971936</td>\n",
       "      <td>09/10/2016-00:00:00</td>\n",
       "    </tr>\n",
       "    <tr>\n",
       "      <th>1</th>\n",
       "      <td>A002</td>\n",
       "      <td>R051</td>\n",
       "      <td>02-00-00</td>\n",
       "      <td>59 ST</td>\n",
       "      <td>NQR456</td>\n",
       "      <td>BMT</td>\n",
       "      <td>09/10/2016</td>\n",
       "      <td>04:00:00</td>\n",
       "      <td>REGULAR</td>\n",
       "      <td>5817544</td>\n",
       "      <td>1971940</td>\n",
       "      <td>09/10/2016-04:00:00</td>\n",
       "    </tr>\n",
       "    <tr>\n",
       "      <th>2</th>\n",
       "      <td>A002</td>\n",
       "      <td>R051</td>\n",
       "      <td>02-00-00</td>\n",
       "      <td>59 ST</td>\n",
       "      <td>NQR456</td>\n",
       "      <td>BMT</td>\n",
       "      <td>09/10/2016</td>\n",
       "      <td>08:00:00</td>\n",
       "      <td>REGULAR</td>\n",
       "      <td>5817564</td>\n",
       "      <td>1971981</td>\n",
       "      <td>09/10/2016-08:00:00</td>\n",
       "    </tr>\n",
       "    <tr>\n",
       "      <th>3</th>\n",
       "      <td>A002</td>\n",
       "      <td>R051</td>\n",
       "      <td>02-00-00</td>\n",
       "      <td>59 ST</td>\n",
       "      <td>NQR456</td>\n",
       "      <td>BMT</td>\n",
       "      <td>09/10/2016</td>\n",
       "      <td>12:00:00</td>\n",
       "      <td>REGULAR</td>\n",
       "      <td>5817678</td>\n",
       "      <td>1972094</td>\n",
       "      <td>09/10/2016-12:00:00</td>\n",
       "    </tr>\n",
       "    <tr>\n",
       "      <th>4</th>\n",
       "      <td>A002</td>\n",
       "      <td>R051</td>\n",
       "      <td>02-00-00</td>\n",
       "      <td>59 ST</td>\n",
       "      <td>NQR456</td>\n",
       "      <td>BMT</td>\n",
       "      <td>09/10/2016</td>\n",
       "      <td>16:00:00</td>\n",
       "      <td>REGULAR</td>\n",
       "      <td>5817925</td>\n",
       "      <td>1972180</td>\n",
       "      <td>09/10/2016-16:00:00</td>\n",
       "    </tr>\n",
       "  </tbody>\n",
       "</table>\n",
       "</div>"
      ],
      "text/plain": [
       "    C/A  UNIT       SCP STATION LINENAME DIVISION        DATE      TIME  \\\n",
       "0  A002  R051  02-00-00   59 ST   NQR456      BMT  09/10/2016  00:00:00   \n",
       "1  A002  R051  02-00-00   59 ST   NQR456      BMT  09/10/2016  04:00:00   \n",
       "2  A002  R051  02-00-00   59 ST   NQR456      BMT  09/10/2016  08:00:00   \n",
       "3  A002  R051  02-00-00   59 ST   NQR456      BMT  09/10/2016  12:00:00   \n",
       "4  A002  R051  02-00-00   59 ST   NQR456      BMT  09/10/2016  16:00:00   \n",
       "\n",
       "      DESC  ENTRIES    EXITS            DATE_TIME  \n",
       "0  REGULAR  5817505  1971936  09/10/2016-00:00:00  \n",
       "1  REGULAR  5817544  1971940  09/10/2016-04:00:00  \n",
       "2  REGULAR  5817564  1971981  09/10/2016-08:00:00  \n",
       "3  REGULAR  5817678  1972094  09/10/2016-12:00:00  \n",
       "4  REGULAR  5817925  1972180  09/10/2016-16:00:00  "
      ]
     },
     "execution_count": 17,
     "metadata": {},
     "output_type": "execute_result"
    }
   ],
   "source": [
    "df['DATE_TIME'] = df['DATE'] + '-' + df['TIME']\n",
    "df.head() # new combined 'DATE_TIME'"
   ]
  },
  {
   "cell_type": "markdown",
   "metadata": {},
   "source": [
    "Convert 'DATE_TIME' observations to datetime objects. Format using strftime formatting."
   ]
  },
  {
   "cell_type": "code",
   "execution_count": 25,
   "metadata": {
    "collapsed": false
   },
   "outputs": [
    {
     "data": {
      "text/html": [
       "<div>\n",
       "<table border=\"1\" class=\"dataframe\">\n",
       "  <thead>\n",
       "    <tr style=\"text-align: right;\">\n",
       "      <th></th>\n",
       "      <th>C/A</th>\n",
       "      <th>UNIT</th>\n",
       "      <th>SCP</th>\n",
       "      <th>STATION</th>\n",
       "      <th>LINENAME</th>\n",
       "      <th>DIVISION</th>\n",
       "      <th>DATE</th>\n",
       "      <th>TIME</th>\n",
       "      <th>DESC</th>\n",
       "      <th>ENTRIES</th>\n",
       "      <th>EXITS</th>\n",
       "      <th>DATE_TIME</th>\n",
       "    </tr>\n",
       "  </thead>\n",
       "  <tbody>\n",
       "    <tr>\n",
       "      <th>0</th>\n",
       "      <td>A002</td>\n",
       "      <td>R051</td>\n",
       "      <td>02-00-00</td>\n",
       "      <td>59 ST</td>\n",
       "      <td>NQR456</td>\n",
       "      <td>BMT</td>\n",
       "      <td>09/10/2016</td>\n",
       "      <td>00:00:00</td>\n",
       "      <td>REGULAR</td>\n",
       "      <td>5817505</td>\n",
       "      <td>1971936</td>\n",
       "      <td>2016-09-10 00:00:00</td>\n",
       "    </tr>\n",
       "    <tr>\n",
       "      <th>1</th>\n",
       "      <td>A002</td>\n",
       "      <td>R051</td>\n",
       "      <td>02-00-00</td>\n",
       "      <td>59 ST</td>\n",
       "      <td>NQR456</td>\n",
       "      <td>BMT</td>\n",
       "      <td>09/10/2016</td>\n",
       "      <td>04:00:00</td>\n",
       "      <td>REGULAR</td>\n",
       "      <td>5817544</td>\n",
       "      <td>1971940</td>\n",
       "      <td>2016-09-10 04:00:00</td>\n",
       "    </tr>\n",
       "    <tr>\n",
       "      <th>2</th>\n",
       "      <td>A002</td>\n",
       "      <td>R051</td>\n",
       "      <td>02-00-00</td>\n",
       "      <td>59 ST</td>\n",
       "      <td>NQR456</td>\n",
       "      <td>BMT</td>\n",
       "      <td>09/10/2016</td>\n",
       "      <td>08:00:00</td>\n",
       "      <td>REGULAR</td>\n",
       "      <td>5817564</td>\n",
       "      <td>1971981</td>\n",
       "      <td>2016-09-10 08:00:00</td>\n",
       "    </tr>\n",
       "    <tr>\n",
       "      <th>3</th>\n",
       "      <td>A002</td>\n",
       "      <td>R051</td>\n",
       "      <td>02-00-00</td>\n",
       "      <td>59 ST</td>\n",
       "      <td>NQR456</td>\n",
       "      <td>BMT</td>\n",
       "      <td>09/10/2016</td>\n",
       "      <td>12:00:00</td>\n",
       "      <td>REGULAR</td>\n",
       "      <td>5817678</td>\n",
       "      <td>1972094</td>\n",
       "      <td>2016-09-10 12:00:00</td>\n",
       "    </tr>\n",
       "    <tr>\n",
       "      <th>4</th>\n",
       "      <td>A002</td>\n",
       "      <td>R051</td>\n",
       "      <td>02-00-00</td>\n",
       "      <td>59 ST</td>\n",
       "      <td>NQR456</td>\n",
       "      <td>BMT</td>\n",
       "      <td>09/10/2016</td>\n",
       "      <td>16:00:00</td>\n",
       "      <td>REGULAR</td>\n",
       "      <td>5817925</td>\n",
       "      <td>1972180</td>\n",
       "      <td>2016-09-10 16:00:00</td>\n",
       "    </tr>\n",
       "  </tbody>\n",
       "</table>\n",
       "</div>"
      ],
      "text/plain": [
       "    C/A  UNIT       SCP STATION LINENAME DIVISION        DATE      TIME  \\\n",
       "0  A002  R051  02-00-00   59 ST   NQR456      BMT  09/10/2016  00:00:00   \n",
       "1  A002  R051  02-00-00   59 ST   NQR456      BMT  09/10/2016  04:00:00   \n",
       "2  A002  R051  02-00-00   59 ST   NQR456      BMT  09/10/2016  08:00:00   \n",
       "3  A002  R051  02-00-00   59 ST   NQR456      BMT  09/10/2016  12:00:00   \n",
       "4  A002  R051  02-00-00   59 ST   NQR456      BMT  09/10/2016  16:00:00   \n",
       "\n",
       "      DESC  ENTRIES    EXITS           DATE_TIME  \n",
       "0  REGULAR  5817505  1971936 2016-09-10 00:00:00  \n",
       "1  REGULAR  5817544  1971940 2016-09-10 04:00:00  \n",
       "2  REGULAR  5817564  1971981 2016-09-10 08:00:00  \n",
       "3  REGULAR  5817678  1972094 2016-09-10 12:00:00  \n",
       "4  REGULAR  5817925  1972180 2016-09-10 16:00:00  "
      ]
     },
     "execution_count": 25,
     "metadata": {},
     "output_type": "execute_result"
    }
   ],
   "source": [
    "# infer datetime format\n",
    "df['DATE_TIME'] = pd.to_datetime(df['DATE_TIME'], infer_datetime_format = True)\n",
    "df.head()\n",
    "# type(df.DATE_TIME)"
   ]
  },
  {
   "cell_type": "code",
   "execution_count": 24,
   "metadata": {
    "collapsed": false
   },
   "outputs": [
    {
     "data": {
      "text/html": [
       "<div>\n",
       "<table border=\"1\" class=\"dataframe\">\n",
       "  <thead>\n",
       "    <tr style=\"text-align: right;\">\n",
       "      <th></th>\n",
       "      <th>C/A</th>\n",
       "      <th>UNIT</th>\n",
       "      <th>SCP</th>\n",
       "      <th>STATION</th>\n",
       "      <th>LINENAME</th>\n",
       "      <th>DIVISION</th>\n",
       "      <th>DATE</th>\n",
       "      <th>TIME</th>\n",
       "      <th>DESC</th>\n",
       "      <th>ENTRIES</th>\n",
       "      <th>EXITS</th>\n",
       "      <th>DATE_TIME</th>\n",
       "    </tr>\n",
       "  </thead>\n",
       "  <tbody>\n",
       "    <tr>\n",
       "      <th>0</th>\n",
       "      <td>A002</td>\n",
       "      <td>R051</td>\n",
       "      <td>02-00-00</td>\n",
       "      <td>59 ST</td>\n",
       "      <td>NQR456</td>\n",
       "      <td>BMT</td>\n",
       "      <td>09/10/2016</td>\n",
       "      <td>00:00:00</td>\n",
       "      <td>REGULAR</td>\n",
       "      <td>5817505</td>\n",
       "      <td>1971936</td>\n",
       "      <td>2016-09-10 00:00:00</td>\n",
       "    </tr>\n",
       "    <tr>\n",
       "      <th>1</th>\n",
       "      <td>A002</td>\n",
       "      <td>R051</td>\n",
       "      <td>02-00-00</td>\n",
       "      <td>59 ST</td>\n",
       "      <td>NQR456</td>\n",
       "      <td>BMT</td>\n",
       "      <td>09/10/2016</td>\n",
       "      <td>04:00:00</td>\n",
       "      <td>REGULAR</td>\n",
       "      <td>5817544</td>\n",
       "      <td>1971940</td>\n",
       "      <td>2016-09-10 04:00:00</td>\n",
       "    </tr>\n",
       "    <tr>\n",
       "      <th>2</th>\n",
       "      <td>A002</td>\n",
       "      <td>R051</td>\n",
       "      <td>02-00-00</td>\n",
       "      <td>59 ST</td>\n",
       "      <td>NQR456</td>\n",
       "      <td>BMT</td>\n",
       "      <td>09/10/2016</td>\n",
       "      <td>08:00:00</td>\n",
       "      <td>REGULAR</td>\n",
       "      <td>5817564</td>\n",
       "      <td>1971981</td>\n",
       "      <td>2016-09-10 08:00:00</td>\n",
       "    </tr>\n",
       "    <tr>\n",
       "      <th>3</th>\n",
       "      <td>A002</td>\n",
       "      <td>R051</td>\n",
       "      <td>02-00-00</td>\n",
       "      <td>59 ST</td>\n",
       "      <td>NQR456</td>\n",
       "      <td>BMT</td>\n",
       "      <td>09/10/2016</td>\n",
       "      <td>12:00:00</td>\n",
       "      <td>REGULAR</td>\n",
       "      <td>5817678</td>\n",
       "      <td>1972094</td>\n",
       "      <td>2016-09-10 12:00:00</td>\n",
       "    </tr>\n",
       "    <tr>\n",
       "      <th>4</th>\n",
       "      <td>A002</td>\n",
       "      <td>R051</td>\n",
       "      <td>02-00-00</td>\n",
       "      <td>59 ST</td>\n",
       "      <td>NQR456</td>\n",
       "      <td>BMT</td>\n",
       "      <td>09/10/2016</td>\n",
       "      <td>16:00:00</td>\n",
       "      <td>REGULAR</td>\n",
       "      <td>5817925</td>\n",
       "      <td>1972180</td>\n",
       "      <td>2016-09-10 16:00:00</td>\n",
       "    </tr>\n",
       "  </tbody>\n",
       "</table>\n",
       "</div>"
      ],
      "text/plain": [
       "    C/A  UNIT       SCP STATION LINENAME DIVISION        DATE      TIME  \\\n",
       "0  A002  R051  02-00-00   59 ST   NQR456      BMT  09/10/2016  00:00:00   \n",
       "1  A002  R051  02-00-00   59 ST   NQR456      BMT  09/10/2016  04:00:00   \n",
       "2  A002  R051  02-00-00   59 ST   NQR456      BMT  09/10/2016  08:00:00   \n",
       "3  A002  R051  02-00-00   59 ST   NQR456      BMT  09/10/2016  12:00:00   \n",
       "4  A002  R051  02-00-00   59 ST   NQR456      BMT  09/10/2016  16:00:00   \n",
       "\n",
       "      DESC  ENTRIES    EXITS           DATE_TIME  \n",
       "0  REGULAR  5817505  1971936 2016-09-10 00:00:00  \n",
       "1  REGULAR  5817544  1971940 2016-09-10 04:00:00  \n",
       "2  REGULAR  5817564  1971981 2016-09-10 08:00:00  \n",
       "3  REGULAR  5817678  1972094 2016-09-10 12:00:00  \n",
       "4  REGULAR  5817925  1972180 2016-09-10 16:00:00  "
      ]
     },
     "execution_count": 24,
     "metadata": {},
     "output_type": "execute_result"
    }
   ],
   "source": [
    "#pd.to_datetime(, format = “%d/%m/%Y”)# take from strftime\n",
    "df['DATE_TIME'] = pd.to_datetime(df['DATE_TIME'], format = '%m/%d/%Y-%H:%M:%S')\n",
    "df.head()\n",
    "# type(df.DATE_TIME)"
   ]
  },
  {
   "cell_type": "code",
   "execution_count": 26,
   "metadata": {
    "collapsed": false
   },
   "outputs": [
    {
     "data": {
      "text/plain": [
       "Index(['C/A', 'UNIT', 'SCP', 'STATION', 'LINENAME', 'DIVISION', 'DATE', 'TIME',\n",
       "       'DESC', 'ENTRIES', 'EXITS', 'DATE_TIME'],\n",
       "      dtype='object')"
      ]
     },
     "execution_count": 26,
     "metadata": {},
     "output_type": "execute_result"
    }
   ],
   "source": [
    "df.columns"
   ]
  },
  {
   "cell_type": "code",
   "execution_count": 27,
   "metadata": {
    "collapsed": false
   },
   "outputs": [
    {
     "data": {
      "text/html": [
       "<div>\n",
       "<table border=\"1\" class=\"dataframe\">\n",
       "  <thead>\n",
       "    <tr style=\"text-align: right;\">\n",
       "      <th></th>\n",
       "      <th>C/A</th>\n",
       "      <th>UNIT</th>\n",
       "      <th>SCP</th>\n",
       "      <th>STATION</th>\n",
       "      <th>DATE_TIME</th>\n",
       "      <th>ENTRIES</th>\n",
       "    </tr>\n",
       "  </thead>\n",
       "  <tbody>\n",
       "    <tr>\n",
       "      <th>0</th>\n",
       "      <td>A002</td>\n",
       "      <td>R051</td>\n",
       "      <td>02-00-00</td>\n",
       "      <td>59 ST</td>\n",
       "      <td>2016-09-10 00:00:00</td>\n",
       "      <td>5817505</td>\n",
       "    </tr>\n",
       "    <tr>\n",
       "      <th>1</th>\n",
       "      <td>A002</td>\n",
       "      <td>R051</td>\n",
       "      <td>02-00-00</td>\n",
       "      <td>59 ST</td>\n",
       "      <td>2016-09-10 04:00:00</td>\n",
       "      <td>5817544</td>\n",
       "    </tr>\n",
       "    <tr>\n",
       "      <th>2</th>\n",
       "      <td>A002</td>\n",
       "      <td>R051</td>\n",
       "      <td>02-00-00</td>\n",
       "      <td>59 ST</td>\n",
       "      <td>2016-09-10 08:00:00</td>\n",
       "      <td>5817564</td>\n",
       "    </tr>\n",
       "    <tr>\n",
       "      <th>3</th>\n",
       "      <td>A002</td>\n",
       "      <td>R051</td>\n",
       "      <td>02-00-00</td>\n",
       "      <td>59 ST</td>\n",
       "      <td>2016-09-10 12:00:00</td>\n",
       "      <td>5817678</td>\n",
       "    </tr>\n",
       "    <tr>\n",
       "      <th>4</th>\n",
       "      <td>A002</td>\n",
       "      <td>R051</td>\n",
       "      <td>02-00-00</td>\n",
       "      <td>59 ST</td>\n",
       "      <td>2016-09-10 16:00:00</td>\n",
       "      <td>5817925</td>\n",
       "    </tr>\n",
       "  </tbody>\n",
       "</table>\n",
       "</div>"
      ],
      "text/plain": [
       "    C/A  UNIT       SCP STATION           DATE_TIME  ENTRIES\n",
       "0  A002  R051  02-00-00   59 ST 2016-09-10 00:00:00  5817505\n",
       "1  A002  R051  02-00-00   59 ST 2016-09-10 04:00:00  5817544\n",
       "2  A002  R051  02-00-00   59 ST 2016-09-10 08:00:00  5817564\n",
       "3  A002  R051  02-00-00   59 ST 2016-09-10 12:00:00  5817678\n",
       "4  A002  R051  02-00-00   59 ST 2016-09-10 16:00:00  5817925"
      ]
     },
     "execution_count": 27,
     "metadata": {},
     "output_type": "execute_result"
    }
   ],
   "source": [
    "# create new df with just desire columns\n",
    "dtdf = df[['C/A', 'UNIT', 'SCP', 'STATION', 'DATE_TIME', 'ENTRIES']]\n",
    "dtdf.head()"
   ]
  },
  {
   "cell_type": "markdown",
   "metadata": {},
   "source": [
    "Check the uniqueness of records for every turnstile by grouping observations based on 'C/A', 'UNIT', 'SCP', 'STATION', 'DATE_TIME', and counting 'ENTRIES'. Sort by 'ENTRIES' in descending order."
   ]
  },
  {
   "cell_type": "code",
   "execution_count": 29,
   "metadata": {
    "collapsed": false
   },
   "outputs": [
    {
     "data": {
      "text/html": [
       "<div>\n",
       "<table border=\"1\" class=\"dataframe\">\n",
       "  <thead>\n",
       "    <tr style=\"text-align: right;\">\n",
       "      <th></th>\n",
       "      <th>C/A</th>\n",
       "      <th>UNIT</th>\n",
       "      <th>SCP</th>\n",
       "      <th>STATION</th>\n",
       "      <th>DATE_TIME</th>\n",
       "      <th>ENTRIES</th>\n",
       "    </tr>\n",
       "  </thead>\n",
       "  <tbody>\n",
       "    <tr>\n",
       "      <th>752394</th>\n",
       "      <td>R634</td>\n",
       "      <td>R069</td>\n",
       "      <td>00-00-00</td>\n",
       "      <td>NEW LOTS AV</td>\n",
       "      <td>2016-08-21 20:00:00</td>\n",
       "      <td>2</td>\n",
       "    </tr>\n",
       "    <tr>\n",
       "      <th>752391</th>\n",
       "      <td>R634</td>\n",
       "      <td>R069</td>\n",
       "      <td>00-00-00</td>\n",
       "      <td>NEW LOTS AV</td>\n",
       "      <td>2016-08-21 08:00:00</td>\n",
       "      <td>2</td>\n",
       "    </tr>\n",
       "    <tr>\n",
       "      <th>752386</th>\n",
       "      <td>R634</td>\n",
       "      <td>R069</td>\n",
       "      <td>00-00-00</td>\n",
       "      <td>NEW LOTS AV</td>\n",
       "      <td>2016-08-20 12:00:00</td>\n",
       "      <td>2</td>\n",
       "    </tr>\n",
       "    <tr>\n",
       "      <th>683323</th>\n",
       "      <td>R504</td>\n",
       "      <td>R276</td>\n",
       "      <td>00-00-01</td>\n",
       "      <td>VERNON-JACKSON</td>\n",
       "      <td>2016-09-16 08:00:00</td>\n",
       "      <td>2</td>\n",
       "    </tr>\n",
       "    <tr>\n",
       "      <th>752387</th>\n",
       "      <td>R634</td>\n",
       "      <td>R069</td>\n",
       "      <td>00-00-00</td>\n",
       "      <td>NEW LOTS AV</td>\n",
       "      <td>2016-08-20 16:00:00</td>\n",
       "      <td>2</td>\n",
       "    </tr>\n",
       "    <tr>\n",
       "      <th>752388</th>\n",
       "      <td>R634</td>\n",
       "      <td>R069</td>\n",
       "      <td>00-00-00</td>\n",
       "      <td>NEW LOTS AV</td>\n",
       "      <td>2016-08-20 20:00:00</td>\n",
       "      <td>2</td>\n",
       "    </tr>\n",
       "    <tr>\n",
       "      <th>752398</th>\n",
       "      <td>R634</td>\n",
       "      <td>R069</td>\n",
       "      <td>00-00-00</td>\n",
       "      <td>NEW LOTS AV</td>\n",
       "      <td>2016-08-22 12:00:00</td>\n",
       "      <td>2</td>\n",
       "    </tr>\n",
       "    <tr>\n",
       "      <th>752397</th>\n",
       "      <td>R634</td>\n",
       "      <td>R069</td>\n",
       "      <td>00-00-00</td>\n",
       "      <td>NEW LOTS AV</td>\n",
       "      <td>2016-08-22 08:00:00</td>\n",
       "      <td>2</td>\n",
       "    </tr>\n",
       "    <tr>\n",
       "      <th>752389</th>\n",
       "      <td>R634</td>\n",
       "      <td>R069</td>\n",
       "      <td>00-00-00</td>\n",
       "      <td>NEW LOTS AV</td>\n",
       "      <td>2016-08-21 00:00:00</td>\n",
       "      <td>2</td>\n",
       "    </tr>\n",
       "    <tr>\n",
       "      <th>752395</th>\n",
       "      <td>R634</td>\n",
       "      <td>R069</td>\n",
       "      <td>00-00-00</td>\n",
       "      <td>NEW LOTS AV</td>\n",
       "      <td>2016-08-22 00:00:00</td>\n",
       "      <td>2</td>\n",
       "    </tr>\n",
       "    <tr>\n",
       "      <th>...</th>\n",
       "      <td>...</td>\n",
       "      <td>...</td>\n",
       "      <td>...</td>\n",
       "      <td>...</td>\n",
       "      <td>...</td>\n",
       "      <td>...</td>\n",
       "    </tr>\n",
       "    <tr>\n",
       "      <th>257495</th>\n",
       "      <td>N128</td>\n",
       "      <td>R200</td>\n",
       "      <td>00-05-01</td>\n",
       "      <td>EUCLID AV</td>\n",
       "      <td>2016-08-25 12:00:00</td>\n",
       "      <td>1</td>\n",
       "    </tr>\n",
       "    <tr>\n",
       "      <th>257496</th>\n",
       "      <td>N128</td>\n",
       "      <td>R200</td>\n",
       "      <td>00-05-01</td>\n",
       "      <td>EUCLID AV</td>\n",
       "      <td>2016-08-25 16:00:00</td>\n",
       "      <td>1</td>\n",
       "    </tr>\n",
       "    <tr>\n",
       "      <th>257497</th>\n",
       "      <td>N128</td>\n",
       "      <td>R200</td>\n",
       "      <td>00-05-01</td>\n",
       "      <td>EUCLID AV</td>\n",
       "      <td>2016-08-25 20:00:00</td>\n",
       "      <td>1</td>\n",
       "    </tr>\n",
       "    <tr>\n",
       "      <th>257498</th>\n",
       "      <td>N128</td>\n",
       "      <td>R200</td>\n",
       "      <td>00-05-01</td>\n",
       "      <td>EUCLID AV</td>\n",
       "      <td>2016-08-26 00:00:00</td>\n",
       "      <td>1</td>\n",
       "    </tr>\n",
       "    <tr>\n",
       "      <th>257499</th>\n",
       "      <td>N128</td>\n",
       "      <td>R200</td>\n",
       "      <td>00-05-01</td>\n",
       "      <td>EUCLID AV</td>\n",
       "      <td>2016-08-26 04:00:00</td>\n",
       "      <td>1</td>\n",
       "    </tr>\n",
       "    <tr>\n",
       "      <th>257500</th>\n",
       "      <td>N128</td>\n",
       "      <td>R200</td>\n",
       "      <td>00-05-01</td>\n",
       "      <td>EUCLID AV</td>\n",
       "      <td>2016-08-26 08:00:00</td>\n",
       "      <td>1</td>\n",
       "    </tr>\n",
       "    <tr>\n",
       "      <th>257501</th>\n",
       "      <td>N128</td>\n",
       "      <td>R200</td>\n",
       "      <td>00-05-01</td>\n",
       "      <td>EUCLID AV</td>\n",
       "      <td>2016-08-26 12:00:00</td>\n",
       "      <td>1</td>\n",
       "    </tr>\n",
       "    <tr>\n",
       "      <th>257502</th>\n",
       "      <td>N128</td>\n",
       "      <td>R200</td>\n",
       "      <td>00-05-01</td>\n",
       "      <td>EUCLID AV</td>\n",
       "      <td>2016-08-26 16:00:00</td>\n",
       "      <td>1</td>\n",
       "    </tr>\n",
       "    <tr>\n",
       "      <th>257503</th>\n",
       "      <td>N128</td>\n",
       "      <td>R200</td>\n",
       "      <td>00-05-01</td>\n",
       "      <td>EUCLID AV</td>\n",
       "      <td>2016-08-26 20:00:00</td>\n",
       "      <td>1</td>\n",
       "    </tr>\n",
       "    <tr>\n",
       "      <th>772494</th>\n",
       "      <td>TRAM2</td>\n",
       "      <td>R469</td>\n",
       "      <td>00-05-01</td>\n",
       "      <td>RIT-ROOSEVELT</td>\n",
       "      <td>2016-09-16 21:00:00</td>\n",
       "      <td>1</td>\n",
       "    </tr>\n",
       "  </tbody>\n",
       "</table>\n",
       "<p>772495 rows × 6 columns</p>\n",
       "</div>"
      ],
      "text/plain": [
       "          C/A  UNIT       SCP         STATION           DATE_TIME  ENTRIES\n",
       "752394   R634  R069  00-00-00     NEW LOTS AV 2016-08-21 20:00:00        2\n",
       "752391   R634  R069  00-00-00     NEW LOTS AV 2016-08-21 08:00:00        2\n",
       "752386   R634  R069  00-00-00     NEW LOTS AV 2016-08-20 12:00:00        2\n",
       "683323   R504  R276  00-00-01  VERNON-JACKSON 2016-09-16 08:00:00        2\n",
       "752387   R634  R069  00-00-00     NEW LOTS AV 2016-08-20 16:00:00        2\n",
       "752388   R634  R069  00-00-00     NEW LOTS AV 2016-08-20 20:00:00        2\n",
       "752398   R634  R069  00-00-00     NEW LOTS AV 2016-08-22 12:00:00        2\n",
       "752397   R634  R069  00-00-00     NEW LOTS AV 2016-08-22 08:00:00        2\n",
       "752389   R634  R069  00-00-00     NEW LOTS AV 2016-08-21 00:00:00        2\n",
       "752395   R634  R069  00-00-00     NEW LOTS AV 2016-08-22 00:00:00        2\n",
       "...       ...   ...       ...             ...                 ...      ...\n",
       "257495   N128  R200  00-05-01       EUCLID AV 2016-08-25 12:00:00        1\n",
       "257496   N128  R200  00-05-01       EUCLID AV 2016-08-25 16:00:00        1\n",
       "257497   N128  R200  00-05-01       EUCLID AV 2016-08-25 20:00:00        1\n",
       "257498   N128  R200  00-05-01       EUCLID AV 2016-08-26 00:00:00        1\n",
       "257499   N128  R200  00-05-01       EUCLID AV 2016-08-26 04:00:00        1\n",
       "257500   N128  R200  00-05-01       EUCLID AV 2016-08-26 08:00:00        1\n",
       "257501   N128  R200  00-05-01       EUCLID AV 2016-08-26 12:00:00        1\n",
       "257502   N128  R200  00-05-01       EUCLID AV 2016-08-26 16:00:00        1\n",
       "257503   N128  R200  00-05-01       EUCLID AV 2016-08-26 20:00:00        1\n",
       "772494  TRAM2  R469  00-05-01   RIT-ROOSEVELT 2016-09-16 21:00:00        1\n",
       "\n",
       "[772495 rows x 6 columns]"
      ]
     },
     "execution_count": 29,
     "metadata": {},
     "output_type": "execute_result"
    }
   ],
   "source": [
    "df_grouped = (dtdf\n",
    " .groupby(['C/A', 'UNIT', 'SCP', 'STATION', 'DATE_TIME']) # this grouping is a turnstile\n",
    " .ENTRIES.count() # count entries for each turnstile\n",
    " .reset_index() # converts groupby object into a df\n",
    " .sort_values('ENTRIES', ascending = False) # sort by ENTRIES in descending order\n",
    ")\n",
    "df_grouped"
   ]
  },
  {
   "cell_type": "markdown",
   "metadata": {},
   "source": [
    "From the `df_grouped` printout above, there seems to be a few turnstiles that have more than 1 entry for a specific date.\n",
    "\n",
    "Subset from `dtdf` the observations that may be duplicates. "
   ]
  },
  {
   "cell_type": "code",
   "execution_count": 35,
   "metadata": {
    "collapsed": false
   },
   "outputs": [
    {
     "data": {
      "text/html": [
       "<div>\n",
       "<table border=\"1\" class=\"dataframe\">\n",
       "  <thead>\n",
       "    <tr style=\"text-align: right;\">\n",
       "      <th></th>\n",
       "      <th>C/A</th>\n",
       "      <th>UNIT</th>\n",
       "      <th>SCP</th>\n",
       "      <th>STATION</th>\n",
       "      <th>DATE_TIME</th>\n",
       "      <th>ENTRIES</th>\n",
       "    </tr>\n",
       "  </thead>\n",
       "  <tbody>\n",
       "    <tr>\n",
       "      <th>752394</th>\n",
       "      <td>R634</td>\n",
       "      <td>R069</td>\n",
       "      <td>00-00-00</td>\n",
       "      <td>NEW LOTS AV</td>\n",
       "      <td>2016-08-21 20:00:00</td>\n",
       "      <td>2</td>\n",
       "    </tr>\n",
       "    <tr>\n",
       "      <th>752391</th>\n",
       "      <td>R634</td>\n",
       "      <td>R069</td>\n",
       "      <td>00-00-00</td>\n",
       "      <td>NEW LOTS AV</td>\n",
       "      <td>2016-08-21 08:00:00</td>\n",
       "      <td>2</td>\n",
       "    </tr>\n",
       "    <tr>\n",
       "      <th>752386</th>\n",
       "      <td>R634</td>\n",
       "      <td>R069</td>\n",
       "      <td>00-00-00</td>\n",
       "      <td>NEW LOTS AV</td>\n",
       "      <td>2016-08-20 12:00:00</td>\n",
       "      <td>2</td>\n",
       "    </tr>\n",
       "    <tr>\n",
       "      <th>683323</th>\n",
       "      <td>R504</td>\n",
       "      <td>R276</td>\n",
       "      <td>00-00-01</td>\n",
       "      <td>VERNON-JACKSON</td>\n",
       "      <td>2016-09-16 08:00:00</td>\n",
       "      <td>2</td>\n",
       "    </tr>\n",
       "    <tr>\n",
       "      <th>752387</th>\n",
       "      <td>R634</td>\n",
       "      <td>R069</td>\n",
       "      <td>00-00-00</td>\n",
       "      <td>NEW LOTS AV</td>\n",
       "      <td>2016-08-20 16:00:00</td>\n",
       "      <td>2</td>\n",
       "    </tr>\n",
       "    <tr>\n",
       "      <th>752388</th>\n",
       "      <td>R634</td>\n",
       "      <td>R069</td>\n",
       "      <td>00-00-00</td>\n",
       "      <td>NEW LOTS AV</td>\n",
       "      <td>2016-08-20 20:00:00</td>\n",
       "      <td>2</td>\n",
       "    </tr>\n",
       "    <tr>\n",
       "      <th>752398</th>\n",
       "      <td>R634</td>\n",
       "      <td>R069</td>\n",
       "      <td>00-00-00</td>\n",
       "      <td>NEW LOTS AV</td>\n",
       "      <td>2016-08-22 12:00:00</td>\n",
       "      <td>2</td>\n",
       "    </tr>\n",
       "    <tr>\n",
       "      <th>752397</th>\n",
       "      <td>R634</td>\n",
       "      <td>R069</td>\n",
       "      <td>00-00-00</td>\n",
       "      <td>NEW LOTS AV</td>\n",
       "      <td>2016-08-22 08:00:00</td>\n",
       "      <td>2</td>\n",
       "    </tr>\n",
       "    <tr>\n",
       "      <th>752389</th>\n",
       "      <td>R634</td>\n",
       "      <td>R069</td>\n",
       "      <td>00-00-00</td>\n",
       "      <td>NEW LOTS AV</td>\n",
       "      <td>2016-08-21 00:00:00</td>\n",
       "      <td>2</td>\n",
       "    </tr>\n",
       "    <tr>\n",
       "      <th>752395</th>\n",
       "      <td>R634</td>\n",
       "      <td>R069</td>\n",
       "      <td>00-00-00</td>\n",
       "      <td>NEW LOTS AV</td>\n",
       "      <td>2016-08-22 00:00:00</td>\n",
       "      <td>2</td>\n",
       "    </tr>\n",
       "    <tr>\n",
       "      <th>752393</th>\n",
       "      <td>R634</td>\n",
       "      <td>R069</td>\n",
       "      <td>00-00-00</td>\n",
       "      <td>NEW LOTS AV</td>\n",
       "      <td>2016-08-21 16:00:00</td>\n",
       "      <td>2</td>\n",
       "    </tr>\n",
       "    <tr>\n",
       "      <th>752392</th>\n",
       "      <td>R634</td>\n",
       "      <td>R069</td>\n",
       "      <td>00-00-00</td>\n",
       "      <td>NEW LOTS AV</td>\n",
       "      <td>2016-08-21 12:00:00</td>\n",
       "      <td>2</td>\n",
       "    </tr>\n",
       "  </tbody>\n",
       "</table>\n",
       "</div>"
      ],
      "text/plain": [
       "         C/A  UNIT       SCP         STATION           DATE_TIME  ENTRIES\n",
       "752394  R634  R069  00-00-00     NEW LOTS AV 2016-08-21 20:00:00        2\n",
       "752391  R634  R069  00-00-00     NEW LOTS AV 2016-08-21 08:00:00        2\n",
       "752386  R634  R069  00-00-00     NEW LOTS AV 2016-08-20 12:00:00        2\n",
       "683323  R504  R276  00-00-01  VERNON-JACKSON 2016-09-16 08:00:00        2\n",
       "752387  R634  R069  00-00-00     NEW LOTS AV 2016-08-20 16:00:00        2\n",
       "752388  R634  R069  00-00-00     NEW LOTS AV 2016-08-20 20:00:00        2\n",
       "752398  R634  R069  00-00-00     NEW LOTS AV 2016-08-22 12:00:00        2\n",
       "752397  R634  R069  00-00-00     NEW LOTS AV 2016-08-22 08:00:00        2\n",
       "752389  R634  R069  00-00-00     NEW LOTS AV 2016-08-21 00:00:00        2\n",
       "752395  R634  R069  00-00-00     NEW LOTS AV 2016-08-22 00:00:00        2\n",
       "752393  R634  R069  00-00-00     NEW LOTS AV 2016-08-21 16:00:00        2\n",
       "752392  R634  R069  00-00-00     NEW LOTS AV 2016-08-21 12:00:00        2"
      ]
     },
     "execution_count": 35,
     "metadata": {},
     "output_type": "execute_result"
    }
   ],
   "source": [
    "mask = (df_grouped['ENTRIES'] > 1)\n",
    "df_grouped[mask]"
   ]
  },
  {
   "cell_type": "code",
   "execution_count": 33,
   "metadata": {
    "collapsed": false
   },
   "outputs": [
    {
     "data": {
      "text/html": [
       "<div>\n",
       "<table border=\"1\" class=\"dataframe\">\n",
       "  <thead>\n",
       "    <tr style=\"text-align: right;\">\n",
       "      <th></th>\n",
       "      <th>ENTRIES</th>\n",
       "    </tr>\n",
       "  </thead>\n",
       "  <tbody>\n",
       "    <tr>\n",
       "      <th>count</th>\n",
       "      <td>12.0</td>\n",
       "    </tr>\n",
       "    <tr>\n",
       "      <th>mean</th>\n",
       "      <td>2.0</td>\n",
       "    </tr>\n",
       "    <tr>\n",
       "      <th>std</th>\n",
       "      <td>0.0</td>\n",
       "    </tr>\n",
       "    <tr>\n",
       "      <th>min</th>\n",
       "      <td>2.0</td>\n",
       "    </tr>\n",
       "    <tr>\n",
       "      <th>25%</th>\n",
       "      <td>2.0</td>\n",
       "    </tr>\n",
       "    <tr>\n",
       "      <th>50%</th>\n",
       "      <td>2.0</td>\n",
       "    </tr>\n",
       "    <tr>\n",
       "      <th>75%</th>\n",
       "      <td>2.0</td>\n",
       "    </tr>\n",
       "    <tr>\n",
       "      <th>max</th>\n",
       "      <td>2.0</td>\n",
       "    </tr>\n",
       "  </tbody>\n",
       "</table>\n",
       "</div>"
      ],
      "text/plain": [
       "       ENTRIES\n",
       "count     12.0\n",
       "mean       2.0\n",
       "std        0.0\n",
       "min        2.0\n",
       "25%        2.0\n",
       "50%        2.0\n",
       "75%        2.0\n",
       "max        2.0"
      ]
     },
     "execution_count": 33,
     "metadata": {},
     "output_type": "execute_result"
    }
   ],
   "source": [
    "df_grouped[mask].describe()"
   ]
  },
  {
   "cell_type": "markdown",
   "metadata": {},
   "source": [
    "There are 12 possible turnstiles with duplicates. Check each of the duplicate observations above."
   ]
  },
  {
   "cell_type": "code",
   "execution_count": 40,
   "metadata": {
    "collapsed": false
   },
   "outputs": [
    {
     "data": {
      "text/html": [
       "<div>\n",
       "<table border=\"1\" class=\"dataframe\">\n",
       "  <thead>\n",
       "    <tr style=\"text-align: right;\">\n",
       "      <th></th>\n",
       "      <th>C/A</th>\n",
       "      <th>UNIT</th>\n",
       "      <th>SCP</th>\n",
       "      <th>STATION</th>\n",
       "      <th>DATE_TIME</th>\n",
       "      <th>ENTRIES</th>\n",
       "    </tr>\n",
       "  </thead>\n",
       "  <tbody>\n",
       "    <tr>\n",
       "      <th>0</th>\n",
       "      <td>A002</td>\n",
       "      <td>R051</td>\n",
       "      <td>02-00-00</td>\n",
       "      <td>59 ST</td>\n",
       "      <td>2016-09-10</td>\n",
       "      <td>5817505</td>\n",
       "    </tr>\n",
       "    <tr>\n",
       "      <th>0</th>\n",
       "      <td>A002</td>\n",
       "      <td>R051</td>\n",
       "      <td>02-00-00</td>\n",
       "      <td>59 ST</td>\n",
       "      <td>2016-09-03</td>\n",
       "      <td>5808846</td>\n",
       "    </tr>\n",
       "    <tr>\n",
       "      <th>0</th>\n",
       "      <td>A002</td>\n",
       "      <td>R051</td>\n",
       "      <td>02-00-00</td>\n",
       "      <td>59 ST</td>\n",
       "      <td>2016-08-27</td>\n",
       "      <td>5799442</td>\n",
       "    </tr>\n",
       "    <tr>\n",
       "      <th>0</th>\n",
       "      <td>A002</td>\n",
       "      <td>R051</td>\n",
       "      <td>02-00-00</td>\n",
       "      <td>59 ST</td>\n",
       "      <td>2016-08-20</td>\n",
       "      <td>5790246</td>\n",
       "    </tr>\n",
       "  </tbody>\n",
       "</table>\n",
       "</div>"
      ],
      "text/plain": [
       "    C/A  UNIT       SCP STATION  DATE_TIME  ENTRIES\n",
       "0  A002  R051  02-00-00   59 ST 2016-09-10  5817505\n",
       "0  A002  R051  02-00-00   59 ST 2016-09-03  5808846\n",
       "0  A002  R051  02-00-00   59 ST 2016-08-27  5799442\n",
       "0  A002  R051  02-00-00   59 ST 2016-08-20  5790246"
      ]
     },
     "execution_count": 40,
     "metadata": {},
     "output_type": "execute_result"
    }
   ],
   "source": [
    "dtdf.ix[0]"
   ]
  },
  {
   "cell_type": "code",
   "execution_count": null,
   "metadata": {
    "collapsed": false
   },
   "outputs": [],
   "source": [
    "# use original df\n",
    "mask = ((df[\"C/A\"] == 'R634') &\n",
    "         (df['UNIT'] == 'R069') &\n",
    "         (df['SCP'] == '00-00-00') &\n",
    "         (df['STATION'] == 'NEW LOTS AV') &\n",
    "         (df['DATE_TIME'].dt.date == datetime.datetime(2016,8,21).date() )) \n",
    "df[mask]"
   ]
  },
  {
   "cell_type": "code",
   "execution_count": null,
   "metadata": {
    "collapsed": false
   },
   "outputs": [],
   "source": [
    "df['C/A'] == 'R634'"
   ]
  },
  {
   "cell_type": "code",
   "execution_count": null,
   "metadata": {
    "collapsed": false
   },
   "outputs": [],
   "source": [
    "df['DATE_TIME'].dt.date.dtype\n",
    "# type(datetime.datetime(2016,8,21).date())"
   ]
  },
  {
   "cell_type": "markdown",
   "metadata": {},
   "source": [
    "### Exercise 1.3\n",
    "\n",
    "Compute total daily entries per turnstile (original dataset had counts for every 4 hours)."
   ]
  },
  {
   "cell_type": "code",
   "execution_count": null,
   "metadata": {
    "collapsed": true
   },
   "outputs": [],
   "source": [
    "dtdf.groupby(['COMBINED_LOC']).ENTRIES"
   ]
  }
 ],
 "metadata": {
  "anaconda-cloud": {},
  "kernelspec": {
   "display_name": "Python [Root]",
   "language": "python",
   "name": "Python [Root]"
  },
  "language_info": {
   "codemirror_mode": {
    "name": "ipython",
    "version": 3
   },
   "file_extension": ".py",
   "mimetype": "text/x-python",
   "name": "python",
   "nbconvert_exporter": "python",
   "pygments_lexer": "ipython3",
   "version": "3.5.2"
  }
 },
 "nbformat": 4,
 "nbformat_minor": 0
}
